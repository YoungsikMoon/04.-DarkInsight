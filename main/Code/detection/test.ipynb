{
 "cells": [
  {
   "cell_type": "code",
   "execution_count": 5,
   "id": "1783c4da-2d3c-41ea-ba69-3f1327b54b3b",
   "metadata": {},
   "outputs": [
    {
     "name": "stdout",
     "output_type": "stream",
     "text": [
      "[(0.3802154541015625, 0.5272993087768555, 0.839147440592448, 0.6520402908325196)]\n"
     ]
    }
   ],
   "source": [
    "import Detection as dt\n",
    "import importlib\n",
    "import cv2\n",
    "%matplotlib inline\n",
    "\n",
    "importlib.reload(dt)\n",
    "\n",
    "image_path = 'input/test.jpg'\n",
    "pt_file_path = 'yolov7-w6-pose.pt'\n",
    "\n",
    "model, device = dt.get_detection_model(pt_file_path)\n",
    "img = cv2.imread(image_path)\n",
    "\n",
    "output = dt.draw_bounding_boxes(img, model, device)\n",
    "print(output)"
   ]
  },
  {
   "cell_type": "code",
   "execution_count": null,
   "id": "aa5344de-826e-4cbd-a222-823e038f006b",
   "metadata": {},
   "outputs": [],
   "source": []
  }
 ],
 "metadata": {
  "kernelspec": {
   "display_name": "Python 3 (ipykernel)",
   "language": "python",
   "name": "python3"
  },
  "language_info": {
   "codemirror_mode": {
    "name": "ipython",
    "version": 3
   },
   "file_extension": ".py",
   "mimetype": "text/x-python",
   "name": "python",
   "nbconvert_exporter": "python",
   "pygments_lexer": "ipython3",
   "version": "3.10.13"
  }
 },
 "nbformat": 4,
 "nbformat_minor": 5
}
