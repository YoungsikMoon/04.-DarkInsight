{
 "cells": [
  {
   "cell_type": "code",
   "execution_count": 1,
   "id": "22411b76-02fa-4e27-9ae7-c9b4db97f3eb",
   "metadata": {},
   "outputs": [
    {
     "name": "stderr",
     "output_type": "stream",
     "text": [
      "100%|██████████████| 3591/3591 [01:00<00:00, 59.74file/s]"
     ]
    },
    {
     "name": "stdout",
     "output_type": "stream",
     "text": [
      "작업이 완료되었습니다.\n"
     ]
    },
    {
     "name": "stderr",
     "output_type": "stream",
     "text": [
      "\n"
     ]
    }
   ],
   "source": [
    "# 카테고리아이디 1로 초기화\n",
    "import os\n",
    "import json\n",
    "from tqdm import tqdm\n",
    "\n",
    "# 경로 설정\n",
    "directory = r'C:\\Users\\Administrator\\Downloads\\datasets\\labels'\n",
    "\n",
    "# 파일 수 세기\n",
    "num_files = len([f for f in os.listdir(directory) if f.endswith('.json')])\n",
    "\n",
    "# 경로의 모든 파일 순회\n",
    "for filename in tqdm(os.listdir(directory), total=num_files, unit=\"file\"):\n",
    "    if filename.endswith('.json'):\n",
    "        # JSON 파일 경로 구성\n",
    "        file_path = os.path.join(directory, filename)\n",
    "        \n",
    "        # JSON 파일 열기 및 데이터 로드\n",
    "        with open(file_path, 'r', encoding='utf-8') as file:\n",
    "            data = json.load(file)\n",
    "        \n",
    "        # \"category_id\" 필드의 값을 0로 변경\n",
    "        for annotation in data['annotations']:\n",
    "            annotation['category_id'] = 0\n",
    "        \n",
    "        # 변경된 데이터를 파일에 저장\n",
    "        with open(file_path, 'w', encoding='utf-8') as file:\n",
    "            json.dump(data, file, ensure_ascii=False, indent=4)\n",
    "\n",
    "print('작업이 완료되었습니다.')"
   ]
  },
  {
   "cell_type": "code",
   "execution_count": null,
   "id": "1ab72aed-a01d-435e-b263-88ed7cf2e040",
   "metadata": {},
   "outputs": [],
   "source": [
    "# import glob\n",
    "\n",
    "# # 파일 경로 지정\n",
    "# file_path = '/content/drive/MyDrive/yolov5-master/DarkInsight/data/labels/val/*.txt'\n",
    "\n",
    "# # 각 파일에 대해 처리\n",
    "# for file in glob.glob(file_path):\n",
    "#     with open(file, 'r') as f:\n",
    "#         lines = f.readlines()\n",
    "\n",
    "#     # 각 라인의 첫번째 숫자를 0으로 변경\n",
    "#     modified_lines = [line.replace('1 ', '0 ') for line in lines]\n",
    "\n",
    "#     # 변경된 내용을 파일에 다시 쓰기\n",
    "#     with open(file, 'w') as f:\n",
    "#         f.writelines(modified_lines)\n",
    "\n",
    "# print('파일 처리가 완료되었습니다.')"
   ]
  },
  {
   "cell_type": "code",
   "execution_count": 3,
   "id": "53cdbab8-df46-4c7b-a5d5-77bd00fd4363",
   "metadata": {},
   "outputs": [
    {
     "name": "stderr",
     "output_type": "stream",
     "text": [
      "100%|██████████████| 2154/2154 [00:01<00:00, 1235.53it/s]\n",
      "100%|██████████████| 2154/2154 [00:01<00:00, 1403.49it/s]\n",
      "100%|████████████████| 718/718 [00:00<00:00, 1402.50it/s]\n",
      "100%|████████████████| 718/718 [00:00<00:00, 1455.19it/s]\n",
      "100%|████████████████| 719/719 [00:00<00:00, 1426.90it/s]\n",
      "100%|████████████████| 719/719 [00:00<00:00, 1452.17it/s]\n"
     ]
    }
   ],
   "source": [
    "import os\n",
    "import json\n",
    "import random\n",
    "import shutil\n",
    "from sklearn.model_selection import train_test_split\n",
    "# 디렉터리 경로 설정\n",
    "dataset_dir = r'C:\\Users\\Administrator\\Downloads\\datasets'\n",
    "img_dir = os.path.join(dataset_dir, 'images')\n",
    "label_dir = os.path.join(dataset_dir, 'labels_json')\n",
    "# 이미지와 라벨 파일 목록 가져오기\n",
    "img_files = sorted([f for f in os.listdir(img_dir) if f.endswith('.jpg')])\n",
    "json_files = sorted([f for f in os.listdir(label_dir) if f.endswith('.json')])\n",
    "# 데이터셋을 train, val, test로 분할\n",
    "train_imgs, test_imgs, train_jsons, test_jsons = train_test_split(img_files, json_files, test_size=0.2, random_state=42)\n",
    "train_imgs, val_imgs, train_jsons, val_jsons = train_test_split(train_imgs, train_jsons, test_size=0.25, random_state=42)\n",
    "# 분할된 데이터셋 디렉터리 생성\n",
    "os.makedirs(os.path.join(dataset_dir, 'train', 'images'), exist_ok=True)\n",
    "os.makedirs(os.path.join(dataset_dir, 'train', 'labels_json'), exist_ok=True)\n",
    "os.makedirs(os.path.join(dataset_dir, 'val', 'images'), exist_ok=True)\n",
    "os.makedirs(os.path.join(dataset_dir, 'val', 'labels_json'), exist_ok=True)\n",
    "os.makedirs(os.path.join(dataset_dir, 'test', 'images'), exist_ok=True)\n",
    "os.makedirs(os.path.join(dataset_dir, 'test', 'labels_json'), exist_ok=True)\n",
    "# 파일 이동 함수\n",
    "def move_files(files, src_dir, dest_dir):\n",
    "    for file in tqdm(files):\n",
    "        shutil.move(os.path.join(src_dir, file), os.path.join(dest_dir, file))\n",
    "# 파일 이동\n",
    "move_files(train_imgs, img_dir, os.path.join(dataset_dir, 'train', 'images'))\n",
    "move_files(train_jsons, label_dir, os.path.join(dataset_dir, 'train', 'labels_json'))\n",
    "move_files(val_imgs, img_dir, os.path.join(dataset_dir, 'val', 'images'))\n",
    "move_files(val_jsons, label_dir, os.path.join(dataset_dir, 'val', 'labels_json'))\n",
    "move_files(test_imgs, img_dir, os.path.join(dataset_dir, 'test', 'images'))\n",
    "move_files(test_jsons, label_dir, os.path.join(dataset_dir, 'test', 'labels_json'))"
   ]
  },
  {
   "cell_type": "code",
   "execution_count": 20,
   "id": "33dbec2f-48c2-4c51-a0d9-08fa89f1a61c",
   "metadata": {},
   "outputs": [],
   "source": [
    "# 트레인 테스트 벨리데이션으로 나기기\n",
    "import os\n",
    "import json\n",
    "import numpy as np\n",
    "\n",
    "# 동시에 각각 한줄 씩 주석 해제 하고 실행\n",
    "\n",
    "# JSON 라벨 파일 경로\n",
    "# json_label_dir = r'C:\\Users\\Administrator\\Downloads\\datasets\\test\\labels_json'\n",
    "# json_label_dir = r'C:\\Users\\Administrator\\Downloads\\datasets\\train\\labels_json'\n",
    "json_label_dir = r'C:\\Users\\Administrator\\Downloads\\datasets\\val\\labels_json'\n",
    "\n",
    "# YOLO 라벨 파일 저장 경로\n",
    "# yolo_label_dir = r'C:\\Users\\Administrator\\Downloads\\datasets\\test\\labels'\n",
    "# yolo_label_dir = r'C:\\Users\\Administrator\\Downloads\\datasets\\train\\labels'\n",
    "yolo_label_dir = r'C:\\Users\\Administrator\\Downloads\\datasets\\val\\labels'\n",
    "\n",
    "# JSON 파일 읽기\n",
    "for filename in os.listdir(json_label_dir):\n",
    "    if filename.endswith('.json'):\n",
    "        with open(os.path.join(json_label_dir, filename), 'r', encoding='utf-8') as f:\n",
    "            data = json.load(f)\n",
    "\n",
    "        # 이미지 크기 가져오기\n",
    "        img_width = data['images'][0]['width']\n",
    "        img_height = data['images'][0]['height']\n",
    "\n",
    "        # YOLO 형식으로 변환\n",
    "        yolo_labels = []\n",
    "        for obj in data['annotations']:\n",
    "            class_id = obj['category_id']\n",
    "            x, y, w, h = obj['bbox']\n",
    "            x_center = x + w / 2\n",
    "            y_center = y + h / 2\n",
    "            width = w\n",
    "            height = h\n",
    "            yolo_labels.append(f\"{class_id} {x_center / img_width} {y_center / img_height} {width / img_width} {height / img_height}\")\n",
    "\n",
    "        # YOLO 라벨 파일 저장\n",
    "        img_filename = os.path.splitext(filename)[0] + '.jpg'\n",
    "        label_filename = os.path.splitext(filename)[0] + '.txt'\n",
    "        label_path = os.path.join(yolo_label_dir, label_filename)\n",
    "        with open(label_path, 'w') as f:\n",
    "            f.write('\\n'.join(yolo_labels))\n",
    "\n",
    "\n",
    "# yolov5/data 디렉터리 images, labels 디렉터리 각각 만들기\n",
    "# images 디렉터리 하위에 train, test, val 디렉터리 생성후 각각 디렉터리에 이미지 업로드\n",
    "# labels 디렉터리 하위에 train, test, val 디렉터리 생성 후 각각 디렉터리에 이미지에 상응하는 txt 데이타 업로드"
   ]
  },
  {
   "cell_type": "markdown",
   "id": "fd1236cc-68e6-43a9-9a47-c95acc28bac5",
   "metadata": {},
   "source": [
    "<!-- set GIT_PYTHON_GIT_EXECUTABLE=C:\\Users\\Administrator\\AppData\\Local\\GitHubDesktop\\app-3.3.18\\resources\\app\\git\\cmd\\git.exe -->\n",
    "<!-- python train.py --data data/custom.yaml --weights yolov5s.pt --cfg yolov5s.yaml --epochs 100 --batch-size 16 --patience 5 -->"
   ]
  },
  {
   "cell_type": "code",
   "execution_count": null,
   "id": "574287e5-1c93-40e1-904e-85d493d84453",
   "metadata": {},
   "outputs": [],
   "source": []
  }
 ],
 "metadata": {
  "kernelspec": {
   "display_name": "Python 3 (ipykernel)",
   "language": "python",
   "name": "python3"
  },
  "language_info": {
   "codemirror_mode": {
    "name": "ipython",
    "version": 3
   },
   "file_extension": ".py",
   "mimetype": "text/x-python",
   "name": "python",
   "nbconvert_exporter": "python",
   "pygments_lexer": "ipython3",
   "version": "3.10.13"
  }
 },
 "nbformat": 4,
 "nbformat_minor": 5
}
